{
 "cells": [
  {
   "cell_type": "code",
   "execution_count": 1,
   "id": "9fe05e97",
   "metadata": {},
   "outputs": [],
   "source": [
    "import requests\n",
    "import json"
   ]
  },
  {
   "cell_type": "code",
   "execution_count": 3,
   "id": "e89e04bb",
   "metadata": {},
   "outputs": [
    {
     "name": "stdout",
     "output_type": "stream",
     "text": [
      "Status Code: 400\n",
      "Response:\n",
      " {\n",
      "  \"responseHeader\":{\n",
      "    \"status\":400,\n",
      "    \"QTime\":425\n",
      "  },\n",
      "  \"error\":{\n",
      "    \"metadata\":[\"error-class\",\"org.apache.solr.common.SolrException\",\"root-error-class\",\"org.apache.solr.common.SolrException\"],\n",
      "    \"msg\":\"Underlying core creation failed while creating collection: searchEngine_collection\",\n",
      "    \"code\":400\n",
      "  }\n",
      "}\n"
     ]
    }
   ],
   "source": [
    "solr_url = \"http://localhost:8984/solr/admin/collections\"\n",
    "\n",
    "# Parameters for collection creation\n",
    "params = {\n",
    "    \"action\": \"CREATE\",\n",
    "    \"name\": \"searchEngine_collection\",                     # name of the collection\n",
    "    \"numShards\": 2,                                  # number of shards\n",
    "    \"replicationFactor\": 1,                          # replication factor\n",
    "    \"collection.configName\": \"search_config\",        # config uploaded to ZooKeeper\n",
    "}\n",
    "\n",
    "# Send the GET request\n",
    "response = requests.get(solr_url, params=params)\n",
    "\n",
    "# Print response\n",
    "print(\"Status Code:\", response.status_code)\n",
    "print(\"Response:\\n\", response.text)\n"
   ]
  },
  {
   "cell_type": "code",
   "execution_count": 2,
   "id": "75609a4d",
   "metadata": {},
   "outputs": [],
   "source": [
    "resp = requests.get(\"http://localhost/www/dsl/autocomplete.php?q=da&field=title_suggest&limit=5\")"
   ]
  },
  {
   "cell_type": "code",
   "execution_count": 7,
   "id": "992045d7",
   "metadata": {},
   "outputs": [
    {
     "name": "stdout",
     "output_type": "stream",
     "text": [
      "\n"
     ]
    }
   ],
   "source": [
    "print(resp.text)"
   ]
  },
  {
   "cell_type": "code",
   "execution_count": null,
   "id": "5d0bc361",
   "metadata": {},
   "outputs": [
    {
     "name": "stdout",
     "output_type": "stream",
     "text": [
      "Status Code: 400\n",
      "Response: {'responseHeader': {'status': 400, 'QTime': 319}, 'error': {'metadata': ['error-class', 'org.apache.solr.api.ApiBag$ExceptionWithErrObject', 'root-error-class', 'org.apache.solr.api.ApiBag$ExceptionWithErrObject'], 'details': [{'errorMessages': [\"Can't delete field 'title_suggest' because it's referred to by at least one copy field directive.\\n\"], 'delete-field': {'name': 'title_suggest'}}], 'msg': \"error processing commands, errors: [{errorMessages=[Can't delete field 'title_suggest' because it's referred to by at least one copy field directive.\\n], delete-field={name=title_suggest}}], \", 'code': 400}}\n"
     ]
    }
   ],
   "source": []
  },
  {
   "cell_type": "code",
   "execution_count": 11,
   "id": "b65f71f0",
   "metadata": {},
   "outputs": [
    {
     "name": "stdout",
     "output_type": "stream",
     "text": [
      "[1] Deleted CopyField: 200 {'responseHeader': {'status': 0, 'QTime': 1073}}\n"
     ]
    }
   ],
   "source": [
    "delete_copyfield_payload = {\n",
    "    \"delete-copy-field\": {\n",
    "        \"source\": \"title\",\n",
    "        \"dest\": \"title_suggest\"\n",
    "    }\n",
    "}\n",
    "headers = {\"Content-type\": \"application/json\"}\n",
    "resp_del_copy = requests.post(SOLR_URL, data=json.dumps(delete_copyfield_payload), headers=headers)\n",
    "print(\"[1] Deleted CopyField:\", resp_del_copy.status_code, resp_del_copy.json())\n"
   ]
  },
  {
   "cell_type": "code",
   "execution_count": 13,
   "id": "85168315",
   "metadata": {},
   "outputs": [
    {
     "name": "stdout",
     "output_type": "stream",
     "text": [
      "[2] Deleted Field: 200 {'responseHeader': {'status': 0, 'QTime': 532}}\n"
     ]
    }
   ],
   "source": [
    "delete_field_payload = {\n",
    "    \"delete-field\": {\n",
    "        \"name\": \"title_suggest\"\n",
    "    }\n",
    "}\n",
    "\n",
    "resp_del_field = requests.post(SOLR_URL, data=json.dumps(delete_field_payload), headers=headers)\n",
    "print(\"[2] Deleted Field:\", resp_del_field.status_code, resp_del_field.json())\n"
   ]
  },
  {
   "cell_type": "code",
   "execution_count": 14,
   "id": "1c3dfc87",
   "metadata": {},
   "outputs": [
    {
     "name": "stdout",
     "output_type": "stream",
     "text": [
      "Status Code: 200\n",
      "Response: {'responseHeader': {'status': 0, 'QTime': 521}}\n"
     ]
    }
   ],
   "source": [
    "import requests\n",
    "import json\n",
    "\n",
    "SOLR_URL = \"http://localhost:8984/solr/search_collection/schema\"\n",
    "\n",
    "# Define the new field\n",
    "payload = {\n",
    "    \"add-field\": {\n",
    "        \"name\": \"title_suggest\",\n",
    "        \"type\": \"text_suggest\",   # You can use a custom type like 'text_autocomplete' if defined\n",
    "        \"stored\": True,\n",
    "        \"indexed\": True,\n",
    "        \"multiValued\": False\n",
    "    }\n",
    "}\n",
    "\n",
    "\n",
    "headers = {\"Content-type\": \"application/json\"}\n",
    "\n",
    "response = requests.post(SOLR_URL, data=json.dumps(payload), headers=headers)\n",
    "\n",
    "print(\"Status Code:\", response.status_code)\n",
    "print(\"Response:\", response.json())\n"
   ]
  },
  {
   "cell_type": "code",
   "execution_count": 17,
   "id": "ecb175c6",
   "metadata": {},
   "outputs": [
    {
     "name": "stdout",
     "output_type": "stream",
     "text": [
      "{'responseHeader': {'status': 0, 'QTime': 480}, 'success': {'localhost:8984_solr': {'responseHeader': {'status': 0, 'QTime': 410}}, 'localhost:7574_solr': {'responseHeader': {'status': 0, 'QTime': 428}}}}\n"
     ]
    }
   ],
   "source": [
    "import requests\n",
    "\n",
    "response = requests.get(\"http://localhost:7574/solr/admin/collections\", params={\n",
    "    \"action\": \"RELOAD\",\n",
    "    \"name\": \"search_collection\"\n",
    "})\n",
    "print(response.json())\n"
   ]
  },
  {
   "cell_type": "code",
   "execution_count": 18,
   "id": "75ceb73c",
   "metadata": {},
   "outputs": [
    {
     "name": "stdout",
     "output_type": "stream",
     "text": [
      "{'responseHeader': {'status': 0, 'QTime': 803}}\n"
     ]
    }
   ],
   "source": [
    "copy_field_def = {\n",
    "    \"add-copy-field\": {\n",
    "        \"source\": \"title\",\n",
    "        \"dest\": \"title_suggest\"\n",
    "    }\n",
    "}\n",
    "\n",
    "res = requests.post(\n",
    "    SOLR_URL,\n",
    "    headers={\"Content-Type\": \"application/json\"},\n",
    "    data=json.dumps(copy_field_def)\n",
    ")\n",
    "\n",
    "print(res.json())\n"
   ]
  },
  {
   "cell_type": "code",
   "execution_count": null,
   "id": "b0f283d8",
   "metadata": {},
   "outputs": [
    {
     "ename": "NameError",
     "evalue": "name 'your_params' is not defined",
     "output_type": "error",
     "traceback": [
      "\u001b[31m---------------------------------------------------------------------------\u001b[39m",
      "\u001b[31mNameError\u001b[39m                                 Traceback (most recent call last)",
      "\u001b[36mCell\u001b[39m\u001b[36m \u001b[39m\u001b[32mIn[2]\u001b[39m\u001b[32m, line 3\u001b[39m\n\u001b[32m      1\u001b[39m \u001b[38;5;28;01mimport\u001b[39;00m\u001b[38;5;250m \u001b[39m\u001b[34;01mrequests\u001b[39;00m\n\u001b[32m      2\u001b[39m SOLR_URL = \u001b[33m\"\u001b[39m\u001b[33mhttp://localhost:8984/solr/search_collection/schema\u001b[39m\u001b[33m\"\u001b[39m\n\u001b[32m----> \u001b[39m\u001b[32m3\u001b[39m response = requests.get(SOLR_URL, params=\u001b[43myour_params\u001b[49m).json()\n\u001b[32m      5\u001b[39m \u001b[38;5;66;03m# Check if response is as expected\u001b[39;00m\n\u001b[32m      6\u001b[39m docs = response.get(\u001b[33m\"\u001b[39m\u001b[33mresponse\u001b[39m\u001b[33m\"\u001b[39m, {}).get(\u001b[33m\"\u001b[39m\u001b[33mdocs\u001b[39m\u001b[33m\"\u001b[39m, [])\n",
      "\u001b[31mNameError\u001b[39m: name 'your_params' is not defined"
     ]
    }
   ],
   "source": []
  },
  {
   "cell_type": "code",
   "execution_count": null,
   "id": "611c27ba",
   "metadata": {},
   "outputs": [],
   "source": []
  }
 ],
 "metadata": {
  "kernelspec": {
   "display_name": "Python 3",
   "language": "python",
   "name": "python3"
  },
  "language_info": {
   "codemirror_mode": {
    "name": "ipython",
    "version": 3
   },
   "file_extension": ".py",
   "mimetype": "text/x-python",
   "name": "python",
   "nbconvert_exporter": "python",
   "pygments_lexer": "ipython3",
   "version": "3.13.5"
  }
 },
 "nbformat": 4,
 "nbformat_minor": 5
}
