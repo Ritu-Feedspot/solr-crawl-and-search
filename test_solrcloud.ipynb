{
 "cells": [
  {
   "cell_type": "code",
   "execution_count": 1,
   "id": "9fe05e97",
   "metadata": {},
   "outputs": [],
   "source": [
    "import requests\n",
    "import json"
   ]
  },
  {
   "cell_type": "code",
   "execution_count": 3,
   "id": "e89e04bb",
   "metadata": {},
   "outputs": [
    {
     "name": "stdout",
     "output_type": "stream",
     "text": [
      "Status Code: 400\n",
      "Response:\n",
      " {\n",
      "  \"responseHeader\":{\n",
      "    \"status\":400,\n",
      "    \"QTime\":425\n",
      "  },\n",
      "  \"error\":{\n",
      "    \"metadata\":[\"error-class\",\"org.apache.solr.common.SolrException\",\"root-error-class\",\"org.apache.solr.common.SolrException\"],\n",
      "    \"msg\":\"Underlying core creation failed while creating collection: searchEngine_collection\",\n",
      "    \"code\":400\n",
      "  }\n",
      "}\n"
     ]
    }
   ],
   "source": [
    "solr_url = \"http://localhost:8984/solr/admin/collections\"\n",
    "\n",
    "# Parameters for collection creation\n",
    "params = {\n",
    "    \"action\": \"CREATE\",\n",
    "    \"name\": \"searchEngine_collection\",                     # name of the collection\n",
    "    \"numShards\": 2,                                  # number of shards\n",
    "    \"replicationFactor\": 1,                          # replication factor\n",
    "    \"collection.configName\": \"search_config\",        # config uploaded to ZooKeeper\n",
    "}\n",
    "\n",
    "# Send the GET request\n",
    "response = requests.get(solr_url, params=params)\n",
    "\n",
    "# Print response\n",
    "print(\"Status Code:\", response.status_code)\n",
    "print(\"Response:\\n\", response.text)\n"
   ]
  },
  {
   "cell_type": "code",
   "execution_count": null,
   "id": "75609a4d",
   "metadata": {},
   "outputs": [],
   "source": []
  }
 ],
 "metadata": {
  "kernelspec": {
   "display_name": "Python 3",
   "language": "python",
   "name": "python3"
  },
  "language_info": {
   "codemirror_mode": {
    "name": "ipython",
    "version": 3
   },
   "file_extension": ".py",
   "mimetype": "text/x-python",
   "name": "python",
   "nbconvert_exporter": "python",
   "pygments_lexer": "ipython3",
   "version": "3.13.5"
  }
 },
 "nbformat": 4,
 "nbformat_minor": 5
}
